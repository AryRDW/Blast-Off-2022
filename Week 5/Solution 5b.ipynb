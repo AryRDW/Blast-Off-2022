{
 "cells": [
  {
   "cell_type": "markdown",
   "metadata": {},
   "source": [
    "### Importing the necessary libraries"
   ]
  },
  {
   "cell_type": "code",
   "execution_count": 1,
   "metadata": {},
   "outputs": [],
   "source": [
    "import numpy as np\n",
    "import matplotlib.pyplot as plt\n",
    "import pygmo as pg\n",
    "\n",
    "from math import sin, cos, exp, pi\n",
    "from scipy.interpolate import interp1d"
   ]
  },
  {
   "cell_type": "markdown",
   "metadata": {},
   "source": [
    "### Defining constants"
   ]
  },
  {
   "cell_type": "code",
   "execution_count": 2,
   "metadata": {},
   "outputs": [],
   "source": [
    "# Universal Constants\n",
    "PI = pi\n",
    "GRAVITY = 9.8004                    #! On the surface of the earth, (in m/s2)\n",
    "RE = 6400000                        #! Radius of the earth (in m)\n",
    "GM = GRAVITY * pow(RE, 2)\n",
    "\n",
    "# Used in trajectory equations\n",
    "I_SP = 400                          #! Specific impulse of the rocket (in s)\n",
    "ALTITUDES = [0, 50, 100, 200, 400]  #! Pre-defined altitudes (in km)\n",
    "\n",
    "# Used in MOGA modelling\n",
    "POPULATION_SIZE = 100\n",
    "MUTATION_PROBABILITY = [0.04, 0.04, 0.04, 0.04, 0.04]"
   ]
  },
  {
   "cell_type": "markdown",
   "metadata": {},
   "source": [
    "### Conversion constants"
   ]
  },
  {
   "cell_type": "code",
   "execution_count": 3,
   "metadata": {},
   "outputs": [],
   "source": [
    "# SS_ENGINE is the RS-25\n",
    "SS_ENGINE_THRUST        = 2.15e6        #! in N\n",
    "SS_ENGINE_MASS          = 3500          #! in kg\n",
    "SS_ENGINE_COST          = 30e6          #! in $\n",
    "\n",
    "# Liquid propellant cost is the market price available\n",
    "LIQ_O2_COST             = 0.155         #! in $\n",
    "LIQ_H2_COST             = 9.5           #! in $\n",
    "\n",
    "# Structural component\n",
    "SS_EXT_TANK_MASS        = 760e3         #! in kg\n",
    "SS_EXT_TANK_COST        = 75e6          #! in $"
   ]
  },
  {
   "cell_type": "markdown",
   "metadata": {},
   "source": [
    "### Rocket Specifications"
   ]
  },
  {
   "cell_type": "code",
   "execution_count": 4,
   "metadata": {},
   "outputs": [],
   "source": [
    "THRUST_VECTOR_RANGE = [                         #! in N\n",
    "    [10.1e6, 10.3e6],\n",
    "    [ 9.7e6,  9.9e6],\n",
    "    [10.0e6, 10.2e6],\n",
    "    [ 3.7e6,  3.9e6],\n",
    "    [   2e3,    4e3]\n",
    "]\n",
    "ANGLE_VECTOR_RANGE = [                          #! in m\n",
    "    [  350,   450],\n",
    "    [320e3, 330e3]\n",
    "]\n",
    "CONE_HALF_ANGLE    = [ 0.10,  0.15]             #! in radians\n",
    "ROCKET_RADIUS      = [  3.8,   4.2]             #! in m\n",
    "TOTAL_MASS         = [950e3, 980e3]             #! in kg"
   ]
  },
  {
   "cell_type": "markdown",
   "metadata": {},
   "source": [
    "### class RandomVariable\n",
    "The class has the following variables:\n",
    "- Public:\n",
    "    - **thrust_vector**: Randomly generated $T_{1}$, $T_{2}$, $T_{3}$, $T_{4}$ and $T_{5}$\n",
    "    - **angle_vector**: Randomly generated $\\alpha _{1}$ and $\\alpha _{2}$\n",
    "    - **cone_half_angle**: Randomly generated $\\theta _{C}$\n",
    "    - **rocket_radius**: Randomly generated rocket radius\n",
    "    - **total_mass**: Randomly generated initial wet mass of the rocket $M_{i}$ "
   ]
  },
  {
   "cell_type": "code",
   "execution_count": 5,
   "metadata": {},
   "outputs": [],
   "source": [
    "class RandomVariable():\n",
    "    def __init__(self):\n",
    "        self.thrust_vector = self.__get_random_thrust_vector()\n",
    "        self.angle_vector = self.__get_random_angle_vector()\n",
    "        self.cone_half_angle = self.__get_random_cone_half_radius()\n",
    "        self.rocket_radius = self.__get_random_rocket_radius()\n",
    "        self.total_mass = self.__get_random_total_mass()\n",
    "\n",
    "    def __get_random_thrust_vector(self):\n",
    "        return [(np.random.random()*(b-a)+a) for a, b in THRUST_VECTOR_RANGE]\n",
    "\n",
    "    def __get_random_angle_vector(self):\n",
    "        return [(np.random.random()*(b-a)+a) for a, b in ANGLE_VECTOR_RANGE]\n",
    "\n",
    "    def __get_random_cone_half_radius(self):\n",
    "        return (np.random.random()*(CONE_HALF_ANGLE[1]-CONE_HALF_ANGLE[0]) + CONE_HALF_ANGLE[0])\n",
    "\n",
    "    def __get_random_rocket_radius(self):\n",
    "        return (np.random.random()*(ROCKET_RADIUS[1]-ROCKET_RADIUS[0]) + ROCKET_RADIUS[0])\n",
    "    \n",
    "    def __get_random_total_mass(self):\n",
    "        return (np.random.random()*(TOTAL_MASS[1]-TOTAL_MASS[0]) + TOTAL_MASS[0])\n",
    "\n",
    "    def print_details(self):\n",
    "        print(\"Thrust vector   : \", self.thrust_vector)\n",
    "        print(\"Angle vector    : \", self.angle_vector)\n",
    "        print(\"Cone half angle : \", self.cone_half_angle)\n",
    "        print(\"Rocket radius   : \", self.rocket_radius)\n",
    "        print(\"Total mass      : \", self.total_mass)"
   ]
  },
  {
   "cell_type": "markdown",
   "metadata": {},
   "source": [
    "### class Rocket\n",
    "The class has the following variables:\n",
    "- Private:\n",
    "    - **__generation**: The generation the rocket belongs to\n",
    "    - **__thrust_profile**: Linearly interpolated thrust at various altitudes\n",
    "    - **__angle_profile**: Calculated angle of the rocket w.r.t. normal at various altitudes\n",
    "    - **__r_max**: Maximum distance from the center of the Earth the rocket reaches\n",
    "    - **__final_mass**: Final mass at maximum altitude\n",
    "    - Masses:\n",
    "        - **__mass_propellant**: Mass of the propellants (fuel + oxidizer)\n",
    "        - **__mass_engine**: Mass of all the engines combined\n",
    "        - **__mass_structural**: Structural mass of the rocket\n",
    "    - **__penalty**: Variable penalty awarded based on the discussed function\n",
    "\n",
    "- Public:\n",
    "    - **thrust_vector**: The thrust force at 5 different altitudes\n",
    "    - **angle_vector**: The altitudes at which gravity turn starts and ends\n",
    "    - **cone_half_angle**: The half angle formed by the nose cone\n",
    "    - **rocket_radius**: Radius of the rocket\n",
    "    - **total_mass**: Initial Wet mass of the rocket\n",
    "    - **mass_payload**: Payload capacity\n",
    "    - **total_cost**: Price of the rocket\n",
    "    - **mass_to_cost_ratio**: Self explanatory\n",
    "    - **fitness**: Fitness of the model based on the discussed function"
   ]
  },
  {
   "cell_type": "code",
   "execution_count": 6,
   "metadata": {},
   "outputs": [],
   "source": [
    "class Rocket():\n",
    "    def __init__(self, thrust_vector, angle_vector, cone_half_angle, rocket_radius, total_mass, generation):\n",
    "        # Pre-determined parameters\n",
    "        self.thrust_vector = thrust_vector\n",
    "        self.angle_vector = angle_vector\n",
    "        self.cone_half_angle = cone_half_angle\n",
    "        self.rocket_radius = rocket_radius\n",
    "        self.total_mass = total_mass\n",
    "        self.__generation = generation\n",
    "\n",
    "        # Profile generation\n",
    "        self.__thrust_profile = self.__calc_thrust_profile()\n",
    "        self.__angle_profile = self.__calc_angle_profile()\n",
    "        self.__r_max, self.__final_mass = self.__calc_end_points()\n",
    "\n",
    "        # Intermediate paramters\n",
    "        self.__mass_propellant, self.__mass_engine, self.__mass_structural, self.mass_payload = self.__calc_masses()\n",
    "        self.total_cost = self.__calc_total_cost()\n",
    "\n",
    "        # Final paramters\n",
    "        self.__penalty = self.__calc_penalty()\n",
    "        self.mass_to_cost_ratio = self.mass_payload / self.total_cost\n",
    "        self.fitness = 0\n",
    "    \n",
    "    # Linear interpolation of thrust force\n",
    "    def __calc_thrust_profile(self):\n",
    "        interp_func = interp1d(ALTITUDES, self.thrust_vector)\n",
    "        return interp_func(range(401))\n",
    "\n",
    "    # Calculation of angle at any altitude\n",
    "    def __calc_angle_profile(self):\n",
    "        angle_profile = []\n",
    "        alpha1, alpha2 = self.angle_vector\n",
    "        i = 0\n",
    "        while i < alpha1:\n",
    "            angle_profile.append(0)\n",
    "            i += 1000\n",
    "        while i < alpha1+alpha2:\n",
    "            angle_profile.append(PI/4 * (1 - cos(PI * (i-alpha1) / alpha2)))\n",
    "            i += 1000\n",
    "        while i <= 400e3:\n",
    "            angle_profile.append(PI/2)\n",
    "            i += 1000\n",
    "        return angle_profile\n",
    "\n",
    "    # Calculating rocket profiles\n",
    "    def __calc_end_points(self):\n",
    "        i = 0\n",
    "        Z = [RE, 0.0, 0.0, 0.0, self.total_mass]\n",
    "        while (Z[1] >= 0):\n",
    "            Z_dash = self.__calc_derivatives(Z)\n",
    "            for j in range(5):\n",
    "                Z[j] += Z_dash[j] * 0.01\n",
    "            i += 1\n",
    "        return Z[0], Z[4]\n",
    "\n",
    "    # Calculating masses\n",
    "    def __calc_masses(self):\n",
    "        mass_engine = (self.thrust_vector[0] / SS_ENGINE_THRUST) * SS_ENGINE_MASS\n",
    "        mass_propellant = self.total_mass - self.__final_mass\n",
    "        mass_structural = self.total_mass * 0.15\n",
    "        mass_payload = self.total_mass - (mass_engine + mass_propellant + mass_structural)\n",
    "        return mass_propellant, mass_engine, mass_structural, mass_payload\n",
    "\n",
    "    # Calculating total cost\n",
    "    def __calc_total_cost(self):\n",
    "        cost_engine = (self.__mass_engine / SS_ENGINE_MASS) * SS_ENGINE_COST\n",
    "        cost_propellant = (self.__mass_propellant * (6/7) * LIQ_O2_COST) + (self.__mass_propellant * (1/7) * LIQ_H2_COST)\n",
    "        cost_structural = (self.__mass_structural / SS_EXT_TANK_MASS) * SS_EXT_TANK_COST\n",
    "        return (cost_propellant + cost_engine + cost_structural)\n",
    "\n",
    "    # Calculating penalty\n",
    "    def __calc_penalty(self):\n",
    "        A_final = (self.__r_max - RE) / 1000\n",
    "        _max = max(1, 400-4*self.__generation)\n",
    "        return (abs(400 - A_final) / _max)\n",
    "\n",
    "    # Calculating fitness\n",
    "    def calc_fitness(self, n_dom):\n",
    "        self.fitness = pow(max(1.0 - 0.01*n_dom - self.__penalty, 0), 2)\n",
    "\n",
    "    #! Next generation function -----------------------------------\n",
    "    def mate(self, par2, new_generation):\n",
    "        random_variable = RandomVariable()\n",
    "        probability = [np.random.random(), np.random.random(), np.random.random(), np.random.random(), np.random.random()]\n",
    "        if (probability[0] < 0.5-MUTATION_PROBABILITY[0]/2):\n",
    "            new_thrust_vector = self.thrust_vector\n",
    "        elif (probability[0] < 1-MUTATION_PROBABILITY[0]):\n",
    "            new_thrust_vector = par2.thrust_vector\n",
    "        else:\n",
    "            new_thrust_vector = random_variable.thrust_vector\n",
    "        if (probability[1] < 0.5-MUTATION_PROBABILITY[1]/2):\n",
    "            new_angle_vector = self.angle_vector\n",
    "        elif (probability[1] < 1-MUTATION_PROBABILITY[1]):\n",
    "            new_angle_vector = par2.angle_vector\n",
    "        else:\n",
    "            new_angle_vector = random_variable.angle_vector\n",
    "        if (probability[2] < 0.5-MUTATION_PROBABILITY[2]/2):\n",
    "            new_cone_half_angle = self.cone_half_angle\n",
    "        elif (probability[2] < 1-MUTATION_PROBABILITY[2]):\n",
    "            new_cone_half_angle = par2.cone_half_angle\n",
    "        else:\n",
    "            new_cone_half_angle = random_variable.cone_half_angle\n",
    "        if (probability[3] < 0.5-MUTATION_PROBABILITY[3]/2):\n",
    "            new_rocket_radius = self.rocket_radius\n",
    "        elif (probability[3] < 1-MUTATION_PROBABILITY[3]):\n",
    "            new_rocket_radius = par2.rocket_radius\n",
    "        else:\n",
    "            new_rocket_radius = random_variable.rocket_radius\n",
    "        if (probability[4] < 0.5-MUTATION_PROBABILITY[4]/2):\n",
    "            new_total_mass = self.total_mass\n",
    "        elif (probability[4] < 1-MUTATION_PROBABILITY[4]):\n",
    "            new_total_mass = par2.total_mass\n",
    "        else:\n",
    "            new_total_mass = random_variable.total_mass\n",
    "        return Rocket(new_thrust_vector, new_angle_vector, new_cone_half_angle, new_rocket_radius, new_total_mass, new_generation)\n",
    "\n",
    "    # Helper functions\n",
    "    def __get_thrust(self, r):\n",
    "        alt = int(r/1000 - 6400)\n",
    "        if (alt > 400):\n",
    "            return 0\n",
    "        return self.__thrust_profile[alt]\n",
    "    \n",
    "    def __get_angle(self, r):\n",
    "        alt = int(r/1000 - 6400)\n",
    "        if (alt > 400):\n",
    "            return PI/2\n",
    "        return self.__angle_profile[alt]\n",
    "\n",
    "    def __get_density(self, r):\n",
    "        alt = r/1000 - 6400\n",
    "        return (1.2 * exp(-1 * alt / 10.4))\n",
    "\n",
    "    def __get_drag(self, r, v):\n",
    "        density = self.__get_density(r)\n",
    "        coeff_of_drag = 2 * pow(sin(self.cone_half_angle), 2)\n",
    "        rocket_area = PI * pow(self.rocket_radius, 2)\n",
    "        return (0.5 * coeff_of_drag * rocket_area * density * pow(v, 2))\n",
    "\n",
    "    def __calc_derivatives(self, Z):\n",
    "        r, r_dash, theta, theta_dash, m = Z\n",
    "        thrust = self.__get_thrust(r)\n",
    "        drag = self.__get_drag(r, r_dash)\n",
    "        angle = self.__get_angle(r)\n",
    "        x1 = r_dash\n",
    "        x2 = -(GM / pow(r, 2)) + (r * pow(theta_dash, 2)) + ((thrust - drag) * cos(angle) / m)\n",
    "        x3 = theta_dash\n",
    "        x4 = (thrust - drag) * sin(angle) / (r * m)\n",
    "        x5 = -1 * thrust / (I_SP * GRAVITY)\n",
    "        return np.array((x1, x2, x3, x4, x5))\n",
    "\n",
    "    def print_details(self):\n",
    "        print(\"Payload Mass: {} kg\".format(round(self.mass_payload, 2)))\n",
    "        print(\"Total Cost  : {} million $\".format(round(self.total_cost/1e6, 2)))"
   ]
  },
  {
   "cell_type": "markdown",
   "metadata": {},
   "source": [
    "### Testing a Sample Rocket"
   ]
  },
  {
   "cell_type": "code",
   "execution_count": 7,
   "metadata": {},
   "outputs": [
    {
     "name": "stdout",
     "output_type": "stream",
     "text": [
      "Payload Mass: 52460.74 kg\n",
      "Total Cost  : 159.18 million $\n"
     ]
    }
   ],
   "source": [
    "rv = RandomVariable()\n",
    "sample_rocket = Rocket(rv.thrust_vector, rv.angle_vector, rv.cone_half_angle, rv.rocket_radius, rv.total_mass, 1)\n",
    "sample_rocket.print_details()"
   ]
  },
  {
   "cell_type": "markdown",
   "metadata": {},
   "source": [
    "### class Generation\n",
    "The class has the following variables:\n",
    "- Private:\n",
    "    - **__parents**: The sorted population of the previous generation\n",
    "    - **__number**: The number of the current generation\n",
    "\n",
    "- Public:\n",
    "    - **population**: The sorted population of the offsprings produced by the parents"
   ]
  },
  {
   "cell_type": "code",
   "execution_count": 8,
   "metadata": {},
   "outputs": [],
   "source": [
    "class Generation():\n",
    "    def __init__(self, parents, number):\n",
    "        self.__parents = parents\n",
    "        self.__number = number\n",
    "        self.population = self.__reproduce()\n",
    "        self.__calc_fitness()\n",
    "\n",
    "    def __reproduce(self):\n",
    "        population = []\n",
    "        population.extend(self.__parents[:10])\n",
    "        for _ in range(90):\n",
    "            par1 = np.random.choice(self.__parents[:30])\n",
    "            par2 = np.random.choice(self.__parents[:30])\n",
    "            child = par1.mate(par2, self.__number)\n",
    "            population.append(child)\n",
    "        return population\n",
    "\n",
    "    def __calc_fitness(self):\n",
    "        population_copy = []\n",
    "        dominance = 0\n",
    "        for p in self.population:\n",
    "            population_copy.append(p)\n",
    "        while (len(population_copy) > 0):\n",
    "            points = [[-1*i.mass_payload, i.total_cost] for i in population_copy]\n",
    "            di = pg.non_dominated_front_2d(points=points)\n",
    "            for j in di:\n",
    "                for p in self.population:\n",
    "                    self.population[j].calc_fitness(0)\n",
    "                    break\n",
    "            pc = []\n",
    "            for j in range(len(population_copy)):\n",
    "                if j not in di:\n",
    "                    pc.append(population_copy[j])\n",
    "            population_copy = pc\n",
    "            dominance += 1\n",
    "        self.population = sorted(self.population, key=lambda x: -1*x.fitness)\n",
    "\n",
    "    def plot(self):\n",
    "        plt.figure(figsize=(12, 8))\n",
    "        plt.scatter([i.mass_payload for i in self.population], [i.total_cost for i in self.population])\n",
    "        plt.xlabel(\"Payload Mass (in kg)\")\n",
    "        plt.ylabel(\"Total Cost (in $)\")\n",
    "        plt.title(\"Generation #\" + str(self.__number))\n",
    "        plt.show()"
   ]
  },
  {
   "cell_type": "code",
   "execution_count": 9,
   "metadata": {},
   "outputs": [
    {
     "name": "stdout",
     "output_type": "stream",
     "text": [
      "Generating rocket #10\n",
      "Generating rocket #20\n",
      "Generating rocket #30\n",
      "Generating rocket #40\n",
      "Generating rocket #50\n",
      "Generating rocket #60\n",
      "Generating rocket #70\n",
      "Generating rocket #80\n",
      "Generating rocket #90\n",
      "Generating rocket #100\n"
     ]
    }
   ],
   "source": [
    "population = []\n",
    "generation = 1\n",
    "\n",
    "for i in range(100):\n",
    "    if ((i+1)%10 == 0):\n",
    "        print(\"Generating rocket #{}\".format(i+1))\n",
    "    rv = RandomVariable()\n",
    "    rocket = Rocket(rv.thrust_vector, rv.angle_vector, rv.cone_half_angle, rv.rocket_radius, rv.total_mass, generation)\n",
    "    population.append(rocket)"
   ]
  },
  {
   "cell_type": "code",
   "execution_count": 10,
   "metadata": {},
   "outputs": [],
   "source": [
    "population_copy = []\n",
    "dominance = 0\n",
    "for p in population:\n",
    "    population_copy.append(p)\n",
    "while (len(population_copy) > 0):\n",
    "    points = [[-1*i.mass_payload, i.total_cost] for i in population_copy]\n",
    "    di = pg.non_dominated_front_2d(points=points)\n",
    "    for j in di:\n",
    "        for p in population:\n",
    "            population[j].calc_fitness(0)\n",
    "            break\n",
    "    pc = []\n",
    "    for j in range(len(population_copy)):\n",
    "        if j not in di:\n",
    "            pc.append(population_copy[j])\n",
    "    population_copy = pc\n",
    "    dominance += 1\n",
    "population = sorted(population, key=lambda x: -1*x.fitness)"
   ]
  },
  {
   "cell_type": "code",
   "execution_count": 11,
   "metadata": {},
   "outputs": [
    {
     "name": "stdout",
     "output_type": "stream",
     "text": [
      "Payload Mass: 53474.78 kg\n",
      "Total Cost  : 158.95 million $\n"
     ]
    },
    {
     "data": {
      "image/png": "[encoded data removed]",
      "text/plain": [
       "<Figure size 864x576 with 1 Axes>"
      ]
     },
     "metadata": {
      "needs_background": "light"
     },
     "output_type": "display_data"
    }
   ],
   "source": [
    "population[0].print_details()\n",
    "\n",
    "plt.figure(figsize=(12, 8))\n",
    "plt.scatter([i.mass_payload for i in population], [i.total_cost for i in population])\n",
    "plt.xlabel(\"Payload Mass (in kg)\")\n",
    "plt.ylabel(\"Total Cost (in $)\")\n",
    "plt.title(\"Generation #\" + str(generation))\n",
    "plt.show()"
   ]
  },
  {
   "cell_type": "code",
   "execution_count": 12,
   "metadata": {},
   "outputs": [
    {
     "name": "stdout",
     "output_type": "stream",
     "text": [
      "Payload Mass: 53474.78 kg\n",
      "Total Cost  : 158.95 million $\n"
     ]
    },
    {
     "data": {
      "image/png": "[encoded data removed]",
      "text/plain": [
       "<Figure size 864x576 with 1 Axes>"
      ]
     },
     "metadata": {
      "needs_background": "light"
     },
     "output_type": "display_data"
    },
    {
     "name": "stdout",
     "output_type": "stream",
     "text": [
      "Payload Mass: 53474.78 kg\n",
      "Total Cost  : 158.95 million $\n"
     ]
    },
    {
     "data": {
      "image/png": "[encoded data removed]",
      "text/plain": [
       "<Figure size 864x576 with 1 Axes>"
      ]
     },
     "metadata": {
      "needs_background": "light"
     },
     "output_type": "display_data"
    },
    {
     "name": "stdout",
     "output_type": "stream",
     "text": [
      "Payload Mass: 53474.78 kg\n",
      "Total Cost  : 158.95 million $\n"
     ]
    },
    {
     "data": {
      "image/png": "[encoded data removed]",
      "text/plain": [
       "<Figure size 864x576 with 1 Axes>"
      ]
     },
     "metadata": {
      "needs_background": "light"
     },
     "output_type": "display_data"
    },
    {
     "name": "stdout",
     "output_type": "stream",
     "text": [
      "Payload Mass: 52818.27 kg\n",
      "Total Cost  : 159.04 million $\n"
     ]
    },
    {
     "data": {
      "image/png": "[encoded data removed]",
      "text/plain": [
       "<Figure size 864x576 with 1 Axes>"
      ]
     },
     "metadata": {
      "needs_background": "light"
     },
     "output_type": "display_data"
    }
   ],
   "source": [
    "for i in range(2, 6):\n",
    "    gen = Generation(population, i)\n",
    "    population = gen.population\n",
    "    population[0].print_details()\n",
    "    gen.plot()"
   ]
  }
 ],
 "metadata": {
  "interpreter": {
   "hash": "916dbcbb3f70747c44a77c7bcd40155683ae19c65e1c03b4aa3499c5328201f1"
  },
  "kernelspec": {
   "display_name": "Python 3.8.10 64-bit",
   "language": "python",
   "name": "python3"
  },
  "language_info": {
   "codemirror_mode": {
    "name": "ipython",
    "version": 3
   },
   "file_extension": ".py",
   "mimetype": "text/x-python",
   "name": "python",
   "nbconvert_exporter": "python",
   "pygments_lexer": "ipython3",
   "version": "3.8.10"
  },
  "orig_nbformat": 4,
  "vscode": {
   "interpreter": {
    "hash": "0b238050c0fbec23e22d1482b8d0120dfc8b9361b5e44816b39e3a927c92602a"
   }
  }
 },
 "nbformat": 4,
 "nbformat_minor": 2
}
